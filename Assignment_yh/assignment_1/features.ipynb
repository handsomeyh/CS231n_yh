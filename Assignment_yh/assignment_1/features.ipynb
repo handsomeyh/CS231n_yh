{
 "cells": [
  {
   "cell_type": "code",
   "execution_count": 1,
   "id": "initial_id",
   "metadata": {
    "collapsed": true,
    "ExecuteTime": {
     "end_time": "2024-10-21T02:53:00.886550500Z",
     "start_time": "2024-10-21T02:52:59.269423900Z"
    }
   },
   "outputs": [],
   "source": [
    "\"\"\"\n",
    "跟着cs231n教程完成Image feature图像特征训练\n",
    "本节说明我们不在直接受用原始像素去训练线性分类器，而是提取特征\n",
    "\"\"\"\n",
    "import random\n",
    "import numpy as np\n",
    "from utils.data_utils import load_CIFAR10\n",
    "import matplotlib.pyplot as plt\n",
    "\n",
    "%matplotlib inline\n",
    "plt.rcParams['figure.figsize'] = (10.0, 8.0) # set default size of plots\n",
    "plt.rcParams['image.interpolation'] = 'nearest'\n",
    "plt.rcParams['image.cmap'] = 'gray'\n",
    "\n",
    "# for auto-reloading extenrnal modules\n",
    "# see http://stackoverflow.com/questions/1907993/autoreload-of-modules-in-ipython\n",
    "%load_ext autoreload\n",
    "%autoreload 2"
   ]
  },
  {
   "cell_type": "code",
   "outputs": [
    {
     "name": "stdout",
     "output_type": "stream",
     "text": [
      "(49000, 3072)\n",
      "(49000,)\n",
      "(1000, 3072)\n",
      "(1000,)\n",
      "(1000,)\n",
      "(1000, 3072)\n"
     ]
    }
   ],
   "source": [
    "\"\"\"\n",
    "加载数据\n",
    "\"\"\"\n",
    "from utils.data_utils import get_CIFAR10_data\n",
    "\n",
    "dict = get_CIFAR10_data()\n",
    "X_train = dict['X_train']\n",
    "X_train = X_train.reshape((X_train.shape[0], -1))\n",
    "X_val = dict['X_val']\n",
    "X_val = X_val.reshape((X_val.shape[0], -1))\n",
    "X_test = dict['X_test']\n",
    "X_test = X_test.reshape((X_test.shape[0], -1))\n",
    "y_train = dict['y_train']\n",
    "y_val = dict['y_val']\n",
    "y_test = dict['y_test']\n",
    "\n",
    "print(X_train.shape)\n",
    "print(y_train.shape)\n",
    "print(X_val.shape)\n",
    "print(y_val.shape)\n",
    "print(y_test.shape)\n",
    "print(X_test.shape)\n",
    "\n"
   ],
   "metadata": {
    "collapsed": false,
    "ExecuteTime": {
     "end_time": "2024-10-21T02:57:05.687053300Z",
     "start_time": "2024-10-21T02:57:03.354019Z"
    }
   },
   "id": "146b0acb25773cc1",
   "execution_count": 3
  },
  {
   "cell_type": "code",
   "outputs": [],
   "source": [
    "\"\"\"\n",
    "提取图像特征，具体操作是提取图像的直方图方向梯度与基于HSV颜色空间中的色调颜色直方图\n",
    "HOG提取图像的纹理信息，忽略颜色信息\n",
    "HSV颜色直方图提取颜色信息，忽略纹理\n",
    "\"\"\"\n",
    "\n",
    "\n"
   ],
   "metadata": {
    "collapsed": false
   },
   "id": "c9fc1460077e9eba"
  }
 ],
 "metadata": {
  "kernelspec": {
   "display_name": "Python 3",
   "language": "python",
   "name": "python3"
  },
  "language_info": {
   "codemirror_mode": {
    "name": "ipython",
    "version": 2
   },
   "file_extension": ".py",
   "mimetype": "text/x-python",
   "name": "python",
   "nbconvert_exporter": "python",
   "pygments_lexer": "ipython2",
   "version": "2.7.6"
  }
 },
 "nbformat": 4,
 "nbformat_minor": 5
}
