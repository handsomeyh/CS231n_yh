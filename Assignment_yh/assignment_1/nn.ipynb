{
 "cells": [
  {
   "cell_type": "code",
   "execution_count": 1,
   "id": "initial_id",
   "metadata": {
    "collapsed": true
   },
   "outputs": [],
   "source": [
    "# 进行nn分类器的测试\n",
    "from classifiers.nn_classifier import *\n",
    "from utils.data_utils import *\n",
    "import time\n",
    "\n",
    "# 数据集文件根路径\n",
    "ROOT = 'F:\\CS213n Note\\cs231n_learn_pycharm\\cs231n_learn\\Assignment_yh/assignment_1\\dataset\\cifar-10-batches-py'"
   ]
  },
  {
   "cell_type": "code",
   "outputs": [
    {
     "name": "stdout",
     "output_type": "stream",
     "text": [
      "(50000, 32, 32, 3)\n",
      "(50000, 3072)\n",
      "(10000, 3072)\n",
      "accuracy: 0.6\n",
      "time: 0.8965775000000002\n"
     ]
    }
   ],
   "source": [
    "# 开始时间\n",
    "time_start = time.perf_counter()\n",
    "# 设置数据集的路径\n",
    "nn = nearest_neighobr_classifier()\n",
    "trans_X, trans_Y, test_X, test_Y = load_CIFAR10(ROOT)\n",
    "print(trans_X.shape)\n",
    "# 由于取得图像数据形状为(32,32,3),我们要进行摊平\n",
    "trans_X = trans_X.reshape(trans_X.shape[0],-1)\n",
    "test_X = test_X.reshape(test_X.shape[0],-1)\n",
    "print(trans_X.shape)\n",
    "print(test_X.shape)\n",
    "# 对数据进行简化\n",
    "trans_num = 500\n",
    "test_num = 10\n",
    "# 简化后的训练数据\n",
    "Xtr = trans_X[:trans_num]\n",
    "Ytr = trans_Y[:trans_num]\n",
    "# 简化后的测试数据\n",
    "Xts = test_X[:test_num]\n",
    "Yts = test_Y[:test_num]\n",
    "\n",
    "nn.trans(Xtr, Ytr)\n",
    "test_pred = nn.predict2(Xts)\n",
    "# 求精确率，其中test_pred == test_Y构成了布尔矩阵\n",
    "num_correct = np.sum(test_pred == Yts)\n",
    "# 指标计算\n",
    "acc = float(num_correct) / test_num\n",
    "print(\"accuracy:\", acc)\n",
    "\n",
    "# 结束时间\n",
    "time_end = time.perf_counter()\n",
    "print(\"time:\", time_end - time_start)\n"
   ],
   "metadata": {
    "collapsed": false,
    "ExecuteTime": {
     "end_time": "2024-08-12T02:30:42.727924700Z",
     "start_time": "2024-08-12T02:30:41.824835100Z"
    }
   },
   "id": "55d61fd72014b12f",
   "execution_count": 2
  },
  {
   "cell_type": "code",
   "outputs": [],
   "source": [],
   "metadata": {
    "collapsed": false
   },
   "id": "c74f602cec6ef173"
  }
 ],
 "metadata": {
  "kernelspec": {
   "display_name": "Python 3",
   "language": "python",
   "name": "python3"
  },
  "language_info": {
   "codemirror_mode": {
    "name": "ipython",
    "version": 2
   },
   "file_extension": ".py",
   "mimetype": "text/x-python",
   "name": "python",
   "nbconvert_exporter": "python",
   "pygments_lexer": "ipython2",
   "version": "2.7.6"
  }
 },
 "nbformat": 4,
 "nbformat_minor": 5
}
