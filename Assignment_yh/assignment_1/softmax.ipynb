{
 "cells": [
  {
   "cell_type": "code",
   "execution_count": 2,
   "id": "initial_id",
   "metadata": {
    "collapsed": true,
    "ExecuteTime": {
     "end_time": "2024-08-24T11:50:21.556102200Z",
     "start_time": "2024-08-24T11:50:21.396240200Z"
    }
   },
   "outputs": [
    {
     "name": "stdout",
     "output_type": "stream",
     "text": [
      "The autoreload extension is already loaded. To reload it, use:\n",
      "  %reload_ext autoreload\n"
     ]
    }
   ],
   "source": [
    "# Run some setup code for this notebook.\n",
    "import random\n",
    "from unittest import result\n",
    "\n",
    "import numpy as np\n",
    "from utils.data_utils import *\n",
    "import matplotlib.pyplot as plt\n",
    "\n",
    "# This is a bit of magic to make matplotlib figures appear inline in the\n",
    "# notebook rather than in a new window.\n",
    "%matplotlib inline\n",
    "plt.rcParams['figure.figsize'] = (10.0, 8.0) # set default size of plots\n",
    "plt.rcParams['image.interpolation'] = 'nearest'\n",
    "plt.rcParams['image.cmap'] = 'gray'\n",
    "\n",
    "# Some more magic so that the notebook will reload external python modules;\n",
    "# see http://stackoverflow.com/questions/1907993/autoreload-of-modules-in-ipython\n",
    "%load_ext autoreload\n",
    "%autoreload 2"
   ]
  },
  {
   "cell_type": "code",
   "outputs": [
    {
     "name": "stdout",
     "output_type": "stream",
     "text": [
      "Train data shape:  (49000, 3073)\n",
      "Train labels shape:  (49000,)\n",
      "Validation data shape:  (1000, 3073)\n",
      "Validation labels shape:  (1000,)\n",
      "Test data shape:  (1000, 3073)\n",
      "Test labels shape:  (1000,)\n",
      "dev data shape:  (500, 3073)\n",
      "dev labels shape:  (500,)\n"
     ]
    }
   ],
   "source": [
    "# 取得数据,训练集49000，验证集1000，测试集1000\n",
    "dict = get_CIFAR10_data(subtract_mean=False)\n",
    "\n",
    "X_train = dict['X_train']\n",
    "y_train = dict['y_train']\n",
    "X_val = dict['X_val']\n",
    "y_val = dict['y_val']\n",
    "X_test = dict['X_test']\n",
    "y_test = dict['y_test']\n",
    "\n",
    "# 简化训练集\n",
    "dev_num = 500\n",
    "mask = np.random.choice(X_train.shape[0], dev_num, replace=False)\n",
    "X_dev = X_train[mask]\n",
    "y_dev = y_train[mask]\n",
    "\n",
    "# 对图像数据集改变形状\n",
    "X_train = X_train.reshape(X_train.shape[0], -1)\n",
    "X_val = X_val.reshape(X_val.shape[0], -1)\n",
    "X_test = X_test.reshape(X_test.shape[0], -1)\n",
    "X_dev = X_dev.reshape(X_dev.shape[0], -1)\n",
    "\n",
    "# 减去平均值突出特征\n",
    "mean_img = np.mean(X_train, axis=0)\n",
    "X_train -= mean_img\n",
    "X_val -= mean_img\n",
    "X_test -= mean_img\n",
    "X_dev -= mean_img\n",
    "\n",
    "# 在图像数据后面加上一列1（偏差）\n",
    "X_train = np.hstack((X_train, np.ones((X_train.shape[0], 1))))\n",
    "X_val = np.hstack((X_val, np.ones((X_val.shape[0], 1))))\n",
    "X_test = np.hstack((X_test, np.ones((X_test.shape[0], 1))))\n",
    "X_dev = np.hstack((X_dev, np.ones((X_dev.shape[0], 1))))\n",
    "\n",
    "print('Train data shape: ', X_train.shape)\n",
    "print('Train labels shape: ', y_train.shape)\n",
    "print('Validation data shape: ', X_val.shape)\n",
    "print('Validation labels shape: ', y_val.shape)\n",
    "print('Test data shape: ', X_test.shape)\n",
    "print('Test labels shape: ', y_test.shape)\n",
    "print('dev data shape: ', X_dev.shape)\n",
    "print('dev labels shape: ', y_dev.shape)"
   ],
   "metadata": {
    "collapsed": false,
    "ExecuteTime": {
     "end_time": "2024-08-24T11:50:23.187870200Z",
     "start_time": "2024-08-24T11:50:21.551102300Z"
    }
   },
   "id": "442bb63782bf85f3",
   "execution_count": 3
  },
  {
   "cell_type": "code",
   "outputs": [
    {
     "name": "stdout",
     "output_type": "stream",
     "text": [
      "Softmax loss: 2.292650\n",
      "sanity check: 2.302585\n"
     ]
    }
   ],
   "source": [
    "# 开始测试softmax分类器\n",
    "from classifiers.linear_softmax import *\n",
    "import time\n",
    "W = np.random.randn(10, 3073) * 0.0001\n",
    "loss, grad = softmax_loss_naive(W, X_dev, y_dev, 0.0)\n",
    "\n",
    "print(\"Softmax loss: %f\" % (loss) )\n",
    "print('sanity check: %f' % (-np.log(0.1)))\n",
    "# 为什么二者如此接近\n",
    "# 因为W随机取有10个类，因该比较平均"
   ],
   "metadata": {
    "collapsed": false,
    "ExecuteTime": {
     "end_time": "2024-08-24T11:50:23.350865200Z",
     "start_time": "2024-08-24T11:50:23.173703700Z"
    }
   },
   "id": "7863615b42faa9e0",
   "execution_count": 4
  },
  {
   "cell_type": "code",
   "outputs": [
    {
     "name": "stdout",
     "output_type": "stream",
     "text": [
      "numerical: -0.552044 analytic: -0.552044, relative error: 1.045033e-08\n",
      "numerical: 0.828827 analytic: 0.828827, relative error: 2.053984e-08\n",
      "numerical: -1.338965 analytic: -1.338965, relative error: 4.897714e-10\n",
      "numerical: 2.731581 analytic: 2.731581, relative error: 2.563816e-08\n",
      "numerical: 1.394107 analytic: 1.394107, relative error: 3.250107e-09\n",
      "numerical: 0.390760 analytic: 0.390760, relative error: 9.402038e-08\n",
      "numerical: 2.969508 analytic: 2.969508, relative error: 7.586983e-09\n",
      "numerical: 0.326068 analytic: 0.326068, relative error: 1.200400e-07\n",
      "numerical: 1.308412 analytic: 1.308411, relative error: 3.418369e-08\n",
      "numerical: -0.923119 analytic: -0.923119, relative error: 2.203090e-08\n",
      "加上正则惩罚\n",
      "numerical: -2.357689 analytic: -2.357690, relative error: 2.169519e-08\n",
      "numerical: 0.873125 analytic: 0.873125, relative error: 7.984746e-08\n",
      "numerical: 1.303588 analytic: 1.303588, relative error: 2.182235e-08\n",
      "numerical: 0.236640 analytic: 0.236640, relative error: 1.381585e-07\n",
      "numerical: 0.597264 analytic: 0.597264, relative error: 1.082458e-08\n",
      "numerical: -0.429765 analytic: -0.429765, relative error: 1.951965e-08\n",
      "numerical: 0.712978 analytic: 0.712978, relative error: 3.754340e-08\n",
      "numerical: -0.751116 analytic: -0.751116, relative error: 5.017038e-09\n",
      "numerical: -1.423348 analytic: -1.423348, relative error: 4.109148e-08\n",
      "numerical: 0.052489 analytic: 0.052489, relative error: 1.150523e-07\n"
     ]
    }
   ],
   "source": [
    "loss, grad = softmax_loss_naive(W, X_dev, y_dev, 0.0)\n",
    "# 进行梯度校验\n",
    "from utils.gradient_check import *\n",
    "f = lambda w:softmax_loss_naive(w, X_dev, y_dev, 0.0)[0]\n",
    "# 进行10次检查，看你的分析梯度对不对\n",
    "grad_check_sparse(f, W, grad, 10)\n",
    "\n",
    "# 加上正则惩罚\n",
    "print(\"加上正则惩罚\")\n",
    "loss, grad = softmax_loss_naive(W, X_dev, y_dev, 5e1)\n",
    "f = lambda w:softmax_loss_naive(w, X_dev, y_dev, 5e1)[0]\n",
    "grad_check_sparse(f, W, grad, 10)"
   ],
   "metadata": {
    "collapsed": false,
    "ExecuteTime": {
     "end_time": "2024-08-24T11:50:25.392639600Z",
     "start_time": "2024-08-24T11:50:23.347866700Z"
    }
   },
   "id": "8ae347a3d46456c8",
   "execution_count": 5
  },
  {
   "cell_type": "code",
   "outputs": [
    {
     "name": "stdout",
     "output_type": "stream",
     "text": [
      "非向量实现的损失：2.292650e+00, 耗费时间：0.031541\n",
      "向量实现的损失：2.292650e+00, 耗费时间：0.004997\n",
      "(10, 3073)\n",
      "Loss difference: 0.000000\n",
      "Gradient difference: 0.000000\n",
      "Loss difference: 0.000000\n",
      "Gradient difference: 0.000000\n"
     ]
    }
   ],
   "source": [
    "# 实现softmax损失与梯度的向量化实现 ，并且比较非向量实现与向量实现\n",
    "# 非向量化实现\n",
    "reg = 0.000005\n",
    "start = time.time()\n",
    "loss_naive, grad_naive = softmax_loss_naive(W, X_dev, y_dev, reg)\n",
    "end = time.time()\n",
    "print(\"非向量实现的损失：%e, 耗费时间：%f\" % (loss_naive, end - start))\n",
    "\n",
    "# 向量化实现\n",
    "start = time.time()\n",
    "loss_vectorized, grad_vectorized = softmax_loss_vectorized(W, X_dev, y_dev, reg)\n",
    "end = time.time()\n",
    "print(\"向量实现的损失：%e, 耗费时间：%f\" % (loss_vectorized, end - start))\n",
    "\n",
    "print(grad_vectorized.shape)\n",
    "\n",
    "# 很明显向量化实现的时间快很多\n",
    "grad_difference = np.linalg.norm(grad_naive - grad_vectorized, ord='fro')\n",
    "print('Loss difference: %f' % np.abs(loss_naive - loss_vectorized))\n",
    "print('Gradient difference: %f' % grad_difference)\n",
    "\n",
    "# 使用第二范式来计算两梯度矩阵之间的距离，可以看出二者没有差异\n",
    "grad_difference = np.linalg.norm(grad_naive - grad_vectorized, ord='fro')\n",
    "print('Loss difference: %f' % np.abs(loss_naive - loss_vectorized))\n",
    "print('Gradient difference: %f' % grad_difference)\n"
   ],
   "metadata": {
    "collapsed": false,
    "ExecuteTime": {
     "end_time": "2024-08-24T11:50:25.392639600Z",
     "start_time": "2024-08-24T11:50:24.894245800Z"
    }
   },
   "id": "7cec81b60adb4a3",
   "execution_count": 6
  },
  {
   "cell_type": "code",
   "outputs": [
    {
     "name": "stdout",
     "output_type": "stream",
     "text": [
      "Best\n",
      "lr 3.000000e-08 reg 7.000000e+03 train accuracy: 0.356816 val accuracy: 0.371000\n",
      "lr 3.000000e-08 reg 1.800000e+04 train accuracy: 0.339122 val accuracy: 0.353000\n",
      "lr 3.000000e-08 reg 2.400000e+04 train accuracy: 0.329469 val accuracy: 0.343000\n",
      "lr 3.000000e-08 reg 3.400000e+04 train accuracy: 0.321571 val accuracy: 0.338000\n",
      "lr 3.000000e-08 reg 3.900000e+04 train accuracy: 0.314184 val accuracy: 0.331000\n",
      "lr 3.000000e-08 reg 4.700000e+04 train accuracy: 0.307878 val accuracy: 0.322000\n",
      "lr 3.000000e-08 reg 8.200000e+04 train accuracy: 0.291898 val accuracy: 0.306000\n",
      "lr 3.000000e-08 reg 8.300000e+04 train accuracy: 0.294694 val accuracy: 0.309000\n",
      "lr 3.000000e-08 reg 9.400000e+04 train accuracy: 0.293000 val accuracy: 0.305000\n",
      "lr 3.000000e-08 reg 9.900000e+04 train accuracy: 0.289143 val accuracy: 0.301000\n",
      "lr 8.000000e-08 reg 7.000000e+03 train accuracy: 0.362673 val accuracy: 0.376000\n",
      "lr 8.000000e-08 reg 1.800000e+04 train accuracy: 0.340224 val accuracy: 0.351000\n",
      "lr 8.000000e-08 reg 2.400000e+04 train accuracy: 0.331306 val accuracy: 0.343000\n",
      "lr 8.000000e-08 reg 3.400000e+04 train accuracy: 0.316796 val accuracy: 0.334000\n",
      "lr 8.000000e-08 reg 3.900000e+04 train accuracy: 0.296469 val accuracy: 0.303000\n",
      "lr 8.000000e-08 reg 4.700000e+04 train accuracy: 0.309184 val accuracy: 0.332000\n",
      "lr 8.000000e-08 reg 8.200000e+04 train accuracy: 0.287286 val accuracy: 0.301000\n",
      "lr 8.000000e-08 reg 8.300000e+04 train accuracy: 0.300959 val accuracy: 0.309000\n",
      "lr 8.000000e-08 reg 9.400000e+04 train accuracy: 0.283122 val accuracy: 0.295000\n",
      "lr 8.000000e-08 reg 9.900000e+04 train accuracy: 0.284980 val accuracy: 0.299000\n",
      "lr 1.000000e-07 reg 7.000000e+03 train accuracy: 0.364449 val accuracy: 0.384000\n",
      "lr 1.000000e-07 reg 1.800000e+04 train accuracy: 0.340735 val accuracy: 0.359000\n",
      "lr 1.000000e-07 reg 2.400000e+04 train accuracy: 0.332265 val accuracy: 0.340000\n",
      "lr 1.000000e-07 reg 3.400000e+04 train accuracy: 0.324082 val accuracy: 0.336000\n",
      "lr 1.000000e-07 reg 3.900000e+04 train accuracy: 0.320531 val accuracy: 0.335000\n",
      "lr 1.000000e-07 reg 4.700000e+04 train accuracy: 0.309939 val accuracy: 0.320000\n",
      "lr 1.000000e-07 reg 8.200000e+04 train accuracy: 0.287857 val accuracy: 0.298000\n",
      "lr 1.000000e-07 reg 8.300000e+04 train accuracy: 0.303306 val accuracy: 0.313000\n",
      "lr 1.000000e-07 reg 9.400000e+04 train accuracy: 0.288388 val accuracy: 0.308000\n",
      "lr 1.000000e-07 reg 9.900000e+04 train accuracy: 0.284571 val accuracy: 0.298000\n",
      "lr 5.000000e-07 reg 7.000000e+03 train accuracy: 0.363837 val accuracy: 0.370000\n",
      "lr 5.000000e-07 reg 1.800000e+04 train accuracy: 0.337061 val accuracy: 0.344000\n",
      "lr 5.000000e-07 reg 2.400000e+04 train accuracy: 0.319163 val accuracy: 0.339000\n",
      "lr 5.000000e-07 reg 3.400000e+04 train accuracy: 0.323061 val accuracy: 0.336000\n",
      "lr 5.000000e-07 reg 3.900000e+04 train accuracy: 0.310918 val accuracy: 0.321000\n",
      "lr 5.000000e-07 reg 4.700000e+04 train accuracy: 0.312367 val accuracy: 0.317000\n",
      "lr 5.000000e-07 reg 8.200000e+04 train accuracy: 0.297122 val accuracy: 0.306000\n",
      "lr 5.000000e-07 reg 8.300000e+04 train accuracy: 0.287163 val accuracy: 0.301000\n",
      "lr 5.000000e-07 reg 9.400000e+04 train accuracy: 0.269673 val accuracy: 0.281000\n",
      "lr 5.000000e-07 reg 9.900000e+04 train accuracy: 0.293408 val accuracy: 0.303000\n",
      "lr 6.800000e-07 reg 7.000000e+03 train accuracy: 0.358694 val accuracy: 0.370000\n",
      "lr 6.800000e-07 reg 1.800000e+04 train accuracy: 0.335265 val accuracy: 0.344000\n",
      "lr 6.800000e-07 reg 2.400000e+04 train accuracy: 0.322041 val accuracy: 0.339000\n",
      "lr 6.800000e-07 reg 3.400000e+04 train accuracy: 0.308469 val accuracy: 0.327000\n",
      "lr 6.800000e-07 reg 3.900000e+04 train accuracy: 0.311367 val accuracy: 0.319000\n",
      "lr 6.800000e-07 reg 4.700000e+04 train accuracy: 0.295020 val accuracy: 0.293000\n",
      "lr 6.800000e-07 reg 8.200000e+04 train accuracy: 0.283041 val accuracy: 0.289000\n",
      "lr 6.800000e-07 reg 8.300000e+04 train accuracy: 0.292122 val accuracy: 0.296000\n",
      "lr 6.800000e-07 reg 9.400000e+04 train accuracy: 0.276510 val accuracy: 0.281000\n",
      "lr 6.800000e-07 reg 9.900000e+04 train accuracy: 0.291245 val accuracy: 0.294000\n",
      "lr 8.600000e-07 reg 7.000000e+03 train accuracy: 0.349122 val accuracy: 0.342000\n",
      "lr 8.600000e-07 reg 1.800000e+04 train accuracy: 0.330347 val accuracy: 0.346000\n",
      "lr 8.600000e-07 reg 2.400000e+04 train accuracy: 0.328163 val accuracy: 0.340000\n",
      "lr 8.600000e-07 reg 3.400000e+04 train accuracy: 0.302041 val accuracy: 0.320000\n",
      "lr 8.600000e-07 reg 3.900000e+04 train accuracy: 0.286959 val accuracy: 0.295000\n",
      "lr 8.600000e-07 reg 4.700000e+04 train accuracy: 0.307612 val accuracy: 0.318000\n",
      "lr 8.600000e-07 reg 8.200000e+04 train accuracy: 0.289898 val accuracy: 0.303000\n",
      "lr 8.600000e-07 reg 8.300000e+04 train accuracy: 0.298102 val accuracy: 0.309000\n",
      "lr 8.600000e-07 reg 9.400000e+04 train accuracy: 0.260143 val accuracy: 0.275000\n",
      "lr 8.600000e-07 reg 9.900000e+04 train accuracy: 0.271857 val accuracy: 0.273000\n",
      "lr 9.300000e-07 reg 7.000000e+03 train accuracy: 0.352408 val accuracy: 0.367000\n",
      "lr 9.300000e-07 reg 1.800000e+04 train accuracy: 0.341020 val accuracy: 0.347000\n",
      "lr 9.300000e-07 reg 2.400000e+04 train accuracy: 0.307878 val accuracy: 0.334000\n",
      "lr 9.300000e-07 reg 3.400000e+04 train accuracy: 0.310776 val accuracy: 0.319000\n",
      "lr 9.300000e-07 reg 3.900000e+04 train accuracy: 0.306367 val accuracy: 0.323000\n",
      "lr 9.300000e-07 reg 4.700000e+04 train accuracy: 0.298837 val accuracy: 0.296000\n",
      "lr 9.300000e-07 reg 8.200000e+04 train accuracy: 0.290612 val accuracy: 0.312000\n",
      "lr 9.300000e-07 reg 8.300000e+04 train accuracy: 0.282612 val accuracy: 0.263000\n",
      "lr 9.300000e-07 reg 9.400000e+04 train accuracy: 0.280735 val accuracy: 0.299000\n",
      "lr 9.300000e-07 reg 9.900000e+04 train accuracy: 0.295204 val accuracy: 0.304000\n",
      "lr 9.500000e-07 reg 7.000000e+03 train accuracy: 0.361429 val accuracy: 0.379000\n",
      "lr 9.500000e-07 reg 1.800000e+04 train accuracy: 0.335531 val accuracy: 0.350000\n",
      "lr 9.500000e-07 reg 2.400000e+04 train accuracy: 0.310980 val accuracy: 0.329000\n",
      "lr 9.500000e-07 reg 3.400000e+04 train accuracy: 0.317449 val accuracy: 0.327000\n",
      "lr 9.500000e-07 reg 3.900000e+04 train accuracy: 0.301959 val accuracy: 0.308000\n",
      "lr 9.500000e-07 reg 4.700000e+04 train accuracy: 0.307878 val accuracy: 0.326000\n",
      "lr 9.500000e-07 reg 8.200000e+04 train accuracy: 0.288673 val accuracy: 0.295000\n",
      "lr 9.500000e-07 reg 8.300000e+04 train accuracy: 0.276429 val accuracy: 0.289000\n",
      "lr 9.500000e-07 reg 9.400000e+04 train accuracy: 0.276429 val accuracy: 0.264000\n",
      "lr 9.500000e-07 reg 9.900000e+04 train accuracy: 0.290163 val accuracy: 0.286000\n",
      "lr 9.600000e-07 reg 7.000000e+03 train accuracy: 0.361571 val accuracy: 0.364000\n",
      "lr 9.600000e-07 reg 1.800000e+04 train accuracy: 0.321551 val accuracy: 0.341000\n",
      "lr 9.600000e-07 reg 2.400000e+04 train accuracy: 0.318102 val accuracy: 0.335000\n",
      "lr 9.600000e-07 reg 3.400000e+04 train accuracy: 0.320510 val accuracy: 0.321000\n",
      "lr 9.600000e-07 reg 3.900000e+04 train accuracy: 0.305510 val accuracy: 0.309000\n",
      "lr 9.600000e-07 reg 4.700000e+04 train accuracy: 0.300796 val accuracy: 0.309000\n",
      "lr 9.600000e-07 reg 8.200000e+04 train accuracy: 0.284837 val accuracy: 0.289000\n",
      "lr 9.600000e-07 reg 8.300000e+04 train accuracy: 0.305143 val accuracy: 0.313000\n",
      "lr 9.600000e-07 reg 9.400000e+04 train accuracy: 0.273510 val accuracy: 0.283000\n",
      "lr 9.600000e-07 reg 9.900000e+04 train accuracy: 0.263837 val accuracy: 0.271000\n",
      "lr 9.900000e-07 reg 7.000000e+03 train accuracy: 0.361082 val accuracy: 0.372000\n",
      "lr 9.900000e-07 reg 1.800000e+04 train accuracy: 0.341510 val accuracy: 0.344000\n",
      "lr 9.900000e-07 reg 2.400000e+04 train accuracy: 0.323000 val accuracy: 0.333000\n",
      "lr 9.900000e-07 reg 3.400000e+04 train accuracy: 0.308653 val accuracy: 0.336000\n",
      "lr 9.900000e-07 reg 3.900000e+04 train accuracy: 0.299878 val accuracy: 0.316000\n",
      "lr 9.900000e-07 reg 4.700000e+04 train accuracy: 0.296653 val accuracy: 0.308000\n",
      "lr 9.900000e-07 reg 8.200000e+04 train accuracy: 0.281878 val accuracy: 0.286000\n",
      "lr 9.900000e-07 reg 8.300000e+04 train accuracy: 0.291265 val accuracy: 0.310000\n",
      "lr 9.900000e-07 reg 9.400000e+04 train accuracy: 0.275449 val accuracy: 0.278000\n",
      "lr 9.900000e-07 reg 9.900000e+04 train accuracy: 0.276408 val accuracy: 0.274000\n",
      "best validation accuracy achieved during cross-validation: 0.384000\n"
     ]
    }
   ],
   "source": [
    "# 检验softmax分类器，调参（学习率（步长），正则系数），找到最优的W\n",
    "from classifiers.linear_classifier import *\n",
    "results = {}\n",
    "best_softmax = None\n",
    "best_val = -1 \n",
    "\n",
    "# 参考参数\n",
    "learning_rates = np.random.randint(1, 100, size=10) * 1e-8\n",
    "regularization_strengths = np.random.randint(1, 100, size=10) * 1e3\n",
    "# softmax分类器对象,10×10=100个组合\n",
    "softmax_classifier = LinearSoftmax()\n",
    "for lr in learning_rates:\n",
    "    for reg in regularization_strengths:\n",
    "        key = (lr, reg)\n",
    "        loss_history = softmax_classifier.train(X_train, y_train, learning_rate=lr, reg=reg, num_iters=1500, verbose=False)\n",
    "        y_pred_train = softmax_classifier.predict(X_train)\n",
    "        y_pred_val = softmax_classifier.predict(X_val)\n",
    "        acc_train = np.mean((y_pred_train == y_train))\n",
    "        acc_val = np.mean((y_pred_val == y_val))\n",
    "        results[key] = (acc_train, acc_val)\n",
    "        if acc_val > best_val:\n",
    "            best_val = acc_val\n",
    "            best_softmax = softmax_classifier\n",
    "\n",
    "print(\"Best\")\n",
    "# 输出字典内容,对字典的key进行排序\n",
    "for lr, reg in sorted(results):\n",
    "    train_accuracy, val_accuracy = results[(lr, reg)]\n",
    "    print('lr %e reg %e train accuracy: %f val accuracy: %f' % (lr, reg, train_accuracy, val_accuracy))\n",
    "    \n",
    "\n",
    "print('best validation accuracy achieved during cross-validation: %f' % best_val)\n"
   ],
   "metadata": {
    "collapsed": false,
    "ExecuteTime": {
     "end_time": "2024-08-24T12:09:17.724678900Z",
     "start_time": "2024-08-24T11:57:59.321524700Z"
    }
   },
   "id": "5acda1605deb23c7",
   "execution_count": 12
  },
  {
   "cell_type": "code",
   "outputs": [
    {
     "name": "stdout",
     "output_type": "stream",
     "text": [
      "Test accuracy: 0.298000\n"
     ]
    }
   ],
   "source": [
    "# 使用调参得到的最好的soft分类器与测试集进行预测\n",
    "y_pred_test = softmax_classifier.predict(X_test)\n",
    "acc_test = np.mean((y_pred_test == y_test))\n",
    "print(\"Test accuracy: %f\" % acc_test)"
   ],
   "metadata": {
    "collapsed": false,
    "ExecuteTime": {
     "end_time": "2024-08-24T12:13:51.175688600Z",
     "start_time": "2024-08-24T12:13:51.029137200Z"
    }
   },
   "id": "f04d0812f5bda5e5",
   "execution_count": 13
  },
  {
   "cell_type": "code",
   "outputs": [
    {
     "data": {
      "text/plain": "<Figure size 720x576 with 10 Axes>",
      "image/png": "[encoded data removed]"
     },
     "metadata": {
      "needs_background": "light"
     },
     "output_type": "display_data"
    }
   ],
   "source": [
    "# 可视化best_W\n",
    "w = best_softmax.W[:,:-1]\n",
    "w = w.reshape((w.shape[0], 32, 32, 3))\n",
    "w_min, w_max = np.min(w), np.max(w)\n",
    "\n",
    "classes = ['plane', 'car', 'bird', 'cat', 'deer', 'dog', 'frog', 'horse', 'ship', 'truck']\n",
    "for y, cls in enumerate(classes):\n",
    "    plt.subplot(1, 10, y+1)\n",
    "    wimg = 255.0 * ((w[y] - w_min) / (w_max - w_min))\n",
    "    plt.imshow(wimg.astype(np.uint8))\n",
    "    plt.axis('off')\n",
    "    plt.title(cls)\n",
    "plt.show()"
   ],
   "metadata": {
    "collapsed": false,
    "ExecuteTime": {
     "end_time": "2024-08-24T12:33:03.550697900Z",
     "start_time": "2024-08-24T12:33:03.188279200Z"
    }
   },
   "id": "c7fc26923238443b",
   "execution_count": 18
  },
  {
   "cell_type": "code",
   "outputs": [],
   "source": [],
   "metadata": {
    "collapsed": false
   },
   "id": "c7629d100447ec88"
  }
 ],
 "metadata": {
  "kernelspec": {
   "display_name": "Python 3",
   "language": "python",
   "name": "python3"
  },
  "language_info": {
   "codemirror_mode": {
    "name": "ipython",
    "version": 2
   },
   "file_extension": ".py",
   "mimetype": "text/x-python",
   "name": "python",
   "nbconvert_exporter": "python",
   "pygments_lexer": "ipython2",
   "version": "2.7.6"
  }
 },
 "nbformat": 4,
 "nbformat_minor": 5
}
