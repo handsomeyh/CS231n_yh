{
 "cells": [
  {
   "cell_type": "code",
   "execution_count": 1,
   "id": "initial_id",
   "metadata": {
    "collapsed": true,
    "ExecuteTime": {
     "end_time": "2024-10-20T14:46:30.353585100Z",
     "start_time": "2024-10-20T14:46:30.154966800Z"
    }
   },
   "outputs": [
    {
     "name": "stdout",
     "output_type": "stream",
     "text": [
      "-4 -4 3\n"
     ]
    }
   ],
   "source": [
    "import numpy as np\n",
    "\n",
    "# 简单根据图例进行反向传播f(x,y,z) = (x+y)*z\n",
    "# 假设输入\n",
    "x, y, z = -2, 5, -4\n",
    "\n",
    "q = x + y\n",
    "f = q * z\n",
    "\n",
    "# 计算局部梯度\n",
    "dqdx = 1\n",
    "dqdy = 1\n",
    "dfdq = z\n",
    "dfdz = q\n",
    "\n",
    "# 反向传播,局部梯度×上游梯度\n",
    "dfdx = dfdq * dqdx\n",
    "dfdy = dfdq * dqdy\n",
    "\n",
    "print(dfdx, dfdy, dfdz)"
   ]
  },
  {
   "cell_type": "code",
   "outputs": [
    {
     "name": "stdout",
     "output_type": "stream",
     "text": [
      "[-0.19661193324148185, -0.3932238664829637, 0.19661193324148185] [0.3932238664829637, -0.5898357997244456]\n"
     ]
    }
   ],
   "source": [
    "import numpy as np\n",
    "# 表达式w1x1+w2x2+w3，使用sigmoid激活函数进行激活，对5个变量进行 反向传播求导\n",
    "w = [2,-3,-3]\n",
    "x = [-1, -2]\n",
    "\n",
    "# 前向传播\n",
    "dot = w[0]*x[0] + w[1]*x[1] + w[2]\n",
    "f = 1.0 / (1+np.exp(-dot))\n",
    "\n",
    "# 计算本地梯度\n",
    "ddot = (1-f) * f\n",
    "\n",
    "# 反向传播\n",
    "dw = [x[0]*ddot, x[1]*ddot, 1.0*ddot]\n",
    "dx = [w[0]*ddot, w[1]*ddot]\n",
    "\n",
    "print(dw, dx)\n"
   ],
   "metadata": {
    "collapsed": false,
    "ExecuteTime": {
     "end_time": "2024-08-28T01:28:18.397000300Z",
     "start_time": "2024-08-28T01:28:18.380960300Z"
    }
   },
   "id": "e9f52b7844e0fc5f",
   "execution_count": 5
  },
  {
   "cell_type": "code",
   "outputs": [
    {
     "name": "stdout",
     "output_type": "stream",
     "text": [
      "2.0595697955721652 1.5922327514838093\n"
     ]
    }
   ],
   "source": [
    "import numpy as np\n",
    "# 输入值\n",
    "x, y = 3, -4\n",
    "\n",
    "# 前向传播\n",
    "sigy = 1/(1+np.exp(-y))\n",
    "son = x + sigy\n",
    "sigx = 1/(1+np.exp(-x))\n",
    "den = sigx + (x+y)**2\n",
    "invden = 1/den \n",
    "f = son * invden\n",
    "\n",
    "# 计算本地梯度\n",
    "dsigy = (1-sigy) * sigy\n",
    "dsondx = 1\n",
    "dsondy = dsigy\n",
    "dsigx = (1-sigx) * sigx\n",
    "ddendy = 2*(x + y)\n",
    "ddendx = dsigx + 2*(x + y)\n",
    "dinvfen = -1/(den)**2\n",
    "dfdson = invden\n",
    "dfdinvden = son\n",
    "\n",
    "# 反向传播\n",
    "dfdx = dfdson * dsondx + dfdinvden * dinvfen * ddendx\n",
    "dfdy = dfdson * dsondy + dfdinvden * dinvfen * ddendy\n",
    "\n",
    "print(dfdx, dfdy)\n",
    "\n"
   ],
   "metadata": {
    "collapsed": false,
    "ExecuteTime": {
     "end_time": "2024-08-28T02:01:25.997779100Z",
     "start_time": "2024-08-28T02:01:25.950764200Z"
    }
   },
   "id": "5b6d6c857558624a",
   "execution_count": 6
  },
  {
   "cell_type": "code",
   "outputs": [
    {
     "name": "stdout",
     "output_type": "stream",
     "text": [
      "2.0595697955721652 1.5922327514838093\n"
     ]
    }
   ],
   "source": [
    "import math\n",
    "x = 3 # example values\n",
    "y = -4\n",
    "\n",
    "# forward pass\n",
    "sigy = 1.0 / (1 + math.exp(-y)) # sigmoid in numerator   #(1)\n",
    "num = x + sigy # numerator                               #(2)\n",
    "sigx = 1.0 / (1 + math.exp(-x)) # sigmoid in denominator #(3)\n",
    "xpy = x + y                                              #(4)\n",
    "xpysqr = xpy**2                                          #(5)\n",
    "den = sigx + xpysqr # denominator                        #(6)\n",
    "invden = 1.0 / den                                       #(7)\n",
    "f = num * invden # done!                                 #(8)\n",
    "# backprop f = num * invden\n",
    "dnum = invden # gradient on numerator                             #(8)\n",
    "dinvden = num                                                     #(8)\n",
    "# backprop invden = 1.0 / den \n",
    "dden = (-1.0 / (den**2)) * dinvden                                #(7)\n",
    "# backprop den = sigx + xpysqr\n",
    "dsigx = (1) * dden                                                #(6)\n",
    "dxpysqr = (1) * dden                                              #(6)\n",
    "# backprop xpysqr = xpy**2\n",
    "dxpy = (2 * xpy) * dxpysqr                                        #(5)\n",
    "# backprop xpy = x + y\n",
    "dx = (1) * dxpy                                                   #(4)\n",
    "dy = (1) * dxpy                                                   #(4)\n",
    "# backprop sigx = 1.0 / (1 + math.exp(-x))\n",
    "dx += ((1 - sigx) * sigx) * dsigx # Notice += !! See notes below  #(3)\n",
    "# backprop num = x + sigy\n",
    "dx += (1) * dnum                                                  #(2)\n",
    "dsigy = (1) * dnum                                                #(2)\n",
    "# backprop sigy = 1.0 / (1 + math.exp(-y))\n",
    "dy += ((1 - sigy) * sigy) * dsigy                                 #(1)\n",
    "# done! phew\n",
    "\n",
    "print(dx, dy)"
   ],
   "metadata": {
    "collapsed": false,
    "ExecuteTime": {
     "end_time": "2024-08-28T02:02:57.904119300Z",
     "start_time": "2024-08-28T02:02:57.891121900Z"
    }
   },
   "id": "b2eb5cbed6a5d2bb",
   "execution_count": 8
  },
  {
   "cell_type": "code",
   "outputs": [],
   "source": [],
   "metadata": {
    "collapsed": false
   },
   "id": "46f4e2b4ef888a3e"
  }
 ],
 "metadata": {
  "kernelspec": {
   "display_name": "Python 3",
   "language": "python",
   "name": "python3"
  },
  "language_info": {
   "codemirror_mode": {
    "name": "ipython",
    "version": 2
   },
   "file_extension": ".py",
   "mimetype": "text/x-python",
   "name": "python",
   "nbconvert_exporter": "python",
   "pygments_lexer": "ipython2",
   "version": "2.7.6"
  }
 },
 "nbformat": 4,
 "nbformat_minor": 5
}
