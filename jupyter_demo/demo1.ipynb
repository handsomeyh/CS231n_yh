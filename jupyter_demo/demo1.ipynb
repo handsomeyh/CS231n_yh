{
 "cells": [
  {
   "cell_type": "markdown",
   "source": [
    "# 归一化\n",
    "将一列数据变化到某个固定区间(范围)中，通常，这个区间是[0, 1] 或者（-1,1）之间的小数。主要是为了数据处理方便提出来的，把数据映射到0～1范围之内处理，更加便捷快速。\n",
    "\n"
   ],
   "metadata": {
    "collapsed": false
   },
   "id": "658c73194a7b6199"
  },
  {
   "cell_type": "code",
   "outputs": [
    {
     "name": "stdout",
     "output_type": "stream",
     "text": [
      "(10,) (10,)\n"
     ]
    },
    {
     "data": {
      "text/plain": "<matplotlib.collections.PathCollection at 0x23b00772f48>"
     },
     "execution_count": 2,
     "metadata": {},
     "output_type": "execute_result"
    }
   ],
   "source": [
    "import numpy as np\n",
    "import matplotlib.pyplot as plt\n",
    "\n",
    "x = np.arange(1,11,1)\n",
    "y = np.arange(0,1,0.1)\n",
    "print(x.shape, y.shape)\n",
    "plt.rcParams['axes.facecolor']='Black'\n",
    "\n",
    "\n",
    "plt.scatter(x, y, c='b')"
   ],
   "metadata": {
    "collapsed": false,
    "ExecuteTime": {
     "end_time": "2024-08-20T10:12:17.134684700Z",
     "start_time": "2024-08-20T10:12:16.398890400Z"
    }
   },
   "id": "f37890ef6a78f9f3",
   "execution_count": 2
  },
  {
   "cell_type": "code",
   "outputs": [
    {
     "name": "stdout",
     "output_type": "stream",
     "text": [
      "(10, 1)\n",
      "[[0]\n",
      " [1]\n",
      " [2]\n",
      " [3]\n",
      " [4]\n",
      " [5]\n",
      " [6]\n",
      " [7]\n",
      " [8]\n",
      " [9]]\n",
      "45\n",
      "[[ 0]\n",
      " [-1]\n",
      " [ 2]\n",
      " [ 3]\n",
      " [ 4]\n",
      " [ 5]\n",
      " [ 6]\n",
      " [ 7]\n",
      " [ 8]\n",
      " [ 9]]\n",
      "[-1]\n"
     ]
    }
   ],
   "source": [
    "margins = np.arange(10).reshape(-1,1)\n",
    "print(margins.shape)\n",
    "print(margins)\n",
    "print(np.sum(margins))\n",
    "margins[1] = -1\n",
    "print(margins)\n",
    "print(margins[1])"
   ],
   "metadata": {
    "collapsed": false,
    "ExecuteTime": {
     "end_time": "2024-08-20T10:12:17.530103700Z",
     "start_time": "2024-08-20T10:12:17.522222Z"
    }
   },
   "id": "9ff0a2af01815aff",
   "execution_count": 3
  },
  {
   "cell_type": "code",
   "outputs": [
    {
     "name": "stdout",
     "output_type": "stream",
     "text": [
      "[[ 0  1  2  3  4]\n",
      " [ 5  6  7  8  9]\n",
      " [10 11 12 13 14]\n",
      " [15 16 17 18 19]]\n",
      "[ 0  6 12 18]\n",
      "[30 34 38 42 46]\n"
     ]
    }
   ],
   "source": [
    "metrix = np.arange(20).reshape((4,5))\n",
    "print(metrix)\n",
    "print(metrix[range(4),range(4)])\n",
    "print(np.sum(metrix, axis=0))"
   ],
   "metadata": {
    "collapsed": false,
    "ExecuteTime": {
     "end_time": "2024-08-20T10:12:34.186353600Z",
     "start_time": "2024-08-20T10:12:34.179353Z"
    }
   },
   "id": "fdf380176466df88",
   "execution_count": 5
  },
  {
   "cell_type": "code",
   "outputs": [
    {
     "data": {
      "text/plain": "<Figure size 400x300 with 0 Axes>"
     },
     "metadata": {},
     "output_type": "display_data"
    }
   ],
   "source": [
    "import matplotlib.pyplot as plt\n",
    "# 创建自定义图像\n",
    "fig=plt.figure(figsize=(4,3),facecolor='blue')\n",
    "plt.show()"
   ],
   "metadata": {
    "collapsed": false,
    "ExecuteTime": {
     "end_time": "2024-08-21T08:31:42.762919800Z",
     "start_time": "2024-08-21T08:31:42.171900600Z"
    }
   },
   "id": "d29a32941afb421b",
   "execution_count": 2
  },
  {
   "cell_type": "code",
   "outputs": [],
   "source": [
    "metrix"
   ],
   "metadata": {
    "collapsed": false
   },
   "id": "419b53138df8270b"
  }
 ],
 "metadata": {
  "kernelspec": {
   "display_name": "Python 3",
   "language": "python",
   "name": "python3"
  },
  "language_info": {
   "codemirror_mode": {
    "name": "ipython",
    "version": 2
   },
   "file_extension": ".py",
   "mimetype": "text/x-python",
   "name": "python",
   "nbconvert_exporter": "python",
   "pygments_lexer": "ipython2",
   "version": "2.7.6"
  }
 },
 "nbformat": 4,
 "nbformat_minor": 5
}
